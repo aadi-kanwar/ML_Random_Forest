{
  "nbformat": 4,
  "nbformat_minor": 0,
  "metadata": {
    "colab": {
      "provenance": []
    },
    "kernelspec": {
      "name": "python3",
      "display_name": "Python 3"
    },
    "language_info": {
      "name": "python"
    }
  },
  "cells": [
    {
      "cell_type": "code",
      "source": [
        "pip install category_encoders"
      ],
      "metadata": {
        "colab": {
          "base_uri": "https://localhost:8080/"
        },
        "id": "z7efo_UK3vg7",
        "outputId": "c592e8c7-7f88-4c23-c843-4ddaea158d15"
      },
      "execution_count": 1,
      "outputs": [
        {
          "output_type": "stream",
          "name": "stdout",
          "text": [
            "Collecting category_encoders\n",
            "  Downloading category_encoders-2.6.3-py2.py3-none-any.whl (81 kB)\n",
            "\u001b[?25l     \u001b[90m━━━━━━━━━━━━━━━━━━━━━━━━━━━━━━━━━━━━━━━━\u001b[0m \u001b[32m0.0/81.9 kB\u001b[0m \u001b[31m?\u001b[0m eta \u001b[36m-:--:--\u001b[0m\r\u001b[2K     \u001b[91m━━━━━━━━━━━━━━━━━━━━━━━━━━━━━━━━━━━\u001b[0m\u001b[90m╺\u001b[0m\u001b[90m━━━━\u001b[0m \u001b[32m71.7/81.9 kB\u001b[0m \u001b[31m2.2 MB/s\u001b[0m eta \u001b[36m0:00:01\u001b[0m\r\u001b[2K     \u001b[90m━━━━━━━━━━━━━━━━━━━━━━━━━━━━━━━━━━━━━━━━\u001b[0m \u001b[32m81.9/81.9 kB\u001b[0m \u001b[31m1.8 MB/s\u001b[0m eta \u001b[36m0:00:00\u001b[0m\n",
            "\u001b[?25hRequirement already satisfied: numpy>=1.14.0 in /usr/local/lib/python3.10/dist-packages (from category_encoders) (1.25.2)\n",
            "Requirement already satisfied: scikit-learn>=0.20.0 in /usr/local/lib/python3.10/dist-packages (from category_encoders) (1.2.2)\n",
            "Requirement already satisfied: scipy>=1.0.0 in /usr/local/lib/python3.10/dist-packages (from category_encoders) (1.11.4)\n",
            "Requirement already satisfied: statsmodels>=0.9.0 in /usr/local/lib/python3.10/dist-packages (from category_encoders) (0.14.2)\n",
            "Requirement already satisfied: pandas>=1.0.5 in /usr/local/lib/python3.10/dist-packages (from category_encoders) (2.0.3)\n",
            "Requirement already satisfied: patsy>=0.5.1 in /usr/local/lib/python3.10/dist-packages (from category_encoders) (0.5.6)\n",
            "Requirement already satisfied: python-dateutil>=2.8.2 in /usr/local/lib/python3.10/dist-packages (from pandas>=1.0.5->category_encoders) (2.8.2)\n",
            "Requirement already satisfied: pytz>=2020.1 in /usr/local/lib/python3.10/dist-packages (from pandas>=1.0.5->category_encoders) (2023.4)\n",
            "Requirement already satisfied: tzdata>=2022.1 in /usr/local/lib/python3.10/dist-packages (from pandas>=1.0.5->category_encoders) (2024.1)\n",
            "Requirement already satisfied: six in /usr/local/lib/python3.10/dist-packages (from patsy>=0.5.1->category_encoders) (1.16.0)\n",
            "Requirement already satisfied: joblib>=1.1.1 in /usr/local/lib/python3.10/dist-packages (from scikit-learn>=0.20.0->category_encoders) (1.4.0)\n",
            "Requirement already satisfied: threadpoolctl>=2.0.0 in /usr/local/lib/python3.10/dist-packages (from scikit-learn>=0.20.0->category_encoders) (3.4.0)\n",
            "Requirement already satisfied: packaging>=21.3 in /usr/local/lib/python3.10/dist-packages (from statsmodels>=0.9.0->category_encoders) (24.0)\n",
            "Installing collected packages: category_encoders\n",
            "Successfully installed category_encoders-2.6.3\n"
          ]
        }
      ]
    },
    {
      "cell_type": "code",
      "execution_count": 2,
      "metadata": {
        "colab": {
          "base_uri": "https://localhost:8080/"
        },
        "id": "gPJR3_nZ3AkH",
        "outputId": "a93ffd6c-937f-48ef-80e8-7ea31bbf7d55"
      },
      "outputs": [
        {
          "output_type": "stream",
          "name": "stdout",
          "text": [
            "Libraries used in this project:\n",
            "- NumPy 1.25.2\n",
            "- Pandas 2.0.3\n",
            "- Matplotlib 3.7.1\n",
            "- SciPy 1.11.4\n",
            "- Scikit-learn 1.2.2\n",
            "- Python 3.10.12 (main, Nov 20 2023, 15:14:05) [GCC 11.4.0]\n",
            "\n"
          ]
        }
      ],
      "source": [
        "import sys                             # Read system parameters\n",
        "import os                              # Interact with the operating system\n",
        "import numpy as np                     # Work with multi-dimensional arrays and matrices\n",
        "import pandas as pd                    # Manipulate and analyze data\n",
        "import matplotlib                      # Create 2D charts\n",
        "import matplotlib as mpl\n",
        "import matplotlib.pyplot as plt\n",
        "import scipy as sp                     # Perform scientific computing and advanced mathematics\n",
        "import sklearn                         # Perform data mining and analysis\n",
        "import seaborn as sb                   # Perform data visualization\n",
        "from sklearn.preprocessing import LabelEncoder\n",
        "from category_encoders.binary import BinaryEncoder\n",
        "\n",
        "print('Libraries used in this project:')\n",
        "print('- NumPy {}'.format(np.__version__))\n",
        "print('- Pandas {}'.format(pd.__version__))\n",
        "print('- Matplotlib {}'.format(matplotlib.__version__))\n",
        "print('- SciPy {}'.format(sp.__version__))\n",
        "print('- Scikit-learn {}'.format(sklearn.__version__))\n",
        "print('- Python {}\\n'.format(sys.version))"
      ]
    },
    {
      "cell_type": "code",
      "source": [
        "from google.colab import drive\n",
        "drive.mount(\"/content/drive\")"
      ],
      "metadata": {
        "colab": {
          "base_uri": "https://localhost:8080/"
        },
        "id": "RRX4u5pr3mbK",
        "outputId": "d49c923c-e523-4a27-bc63-1df934e2bb61"
      },
      "execution_count": 4,
      "outputs": [
        {
          "output_type": "stream",
          "name": "stdout",
          "text": [
            "Mounted at /content/drive\n"
          ]
        }
      ]
    },
    {
      "cell_type": "code",
      "source": [
        "import pandas as pd\n",
        "df1=pd.read_csv('/content/final dataset 2.csv')\n",
        "print(df1.head().to_string())"
      ],
      "metadata": {
        "colab": {
          "base_uri": "https://localhost:8080/"
        },
        "id": "_7RmJB7T61eJ",
        "outputId": "8dc65df3-9be8-4fbe-9984-8caaa78fa85f"
      },
      "execution_count": 5,
      "outputs": [
        {
          "output_type": "stream",
          "name": "stdout",
          "text": [
            "        Age  Gender Occupation        Days_Indoors Growing_Stress Quarantine_Frustrations Changes_Habits Mental_Health_History Weight_Change Mood_Swings Coping_Struggles Work_Interest Social_Weakness  living_expenses  other_expenses  depressed\n",
            "0     20-25  Female  Corporate           1-14 days            Yes                     Yes             No                   Yes           Yes      Medium               No            No             Yes         26692283        28203066          0\n",
            "1  30-Above    Male     Others          31-60 days            Yes                     Yes          Maybe                    No            No        High               No            No             Yes         26692283        28203066          1\n",
            "2  30-Above  Female    Student    Go out Every day             No                      No            Yes                    No            No      Medium              Yes         Maybe              No         26692283        28203066          0\n",
            "3     25-30    Male     Others           1-14 days            Yes                      No          Maybe                    No         Maybe      Medium               No         Maybe             Yes           397715        44042267          0\n",
            "4     16-20  Female    Student  More than 2 months            Yes                     Yes            Yes                    No           Yes      Medium              Yes         Maybe              No         80877619        74503502          0\n"
          ]
        }
      ]
    },
    {
      "cell_type": "code",
      "source": [
        "df1.isnull().sum()"
      ],
      "metadata": {
        "colab": {
          "base_uri": "https://localhost:8080/"
        },
        "id": "e2X-SYk87i8N",
        "outputId": "58745de6-2673-4774-da26-5d5d09b6c485"
      },
      "execution_count": 6,
      "outputs": [
        {
          "output_type": "execute_result",
          "data": {
            "text/plain": [
              "Age                        605\n",
              "Gender                     605\n",
              "Occupation                 605\n",
              "Days_Indoors               605\n",
              "Growing_Stress             605\n",
              "Quarantine_Frustrations    605\n",
              "Changes_Habits             605\n",
              "Mental_Health_History      605\n",
              "Weight_Change              605\n",
              "Mood_Swings                605\n",
              "Coping_Struggles           605\n",
              "Work_Interest              605\n",
              "Social_Weakness            605\n",
              "living_expenses              0\n",
              "other_expenses               0\n",
              "depressed                    0\n",
              "dtype: int64"
            ]
          },
          "metadata": {},
          "execution_count": 6
        }
      ]
    },
    {
      "cell_type": "code",
      "source": [
        "df1=df1.dropna()\n",
        "df1.isnull().sum()"
      ],
      "metadata": {
        "colab": {
          "base_uri": "https://localhost:8080/"
        },
        "id": "KJG873I5Uc0B",
        "outputId": "cd90b4a1-ab80-4041-938e-c0f7de45460f"
      },
      "execution_count": 7,
      "outputs": [
        {
          "output_type": "execute_result",
          "data": {
            "text/plain": [
              "Age                        0\n",
              "Gender                     0\n",
              "Occupation                 0\n",
              "Days_Indoors               0\n",
              "Growing_Stress             0\n",
              "Quarantine_Frustrations    0\n",
              "Changes_Habits             0\n",
              "Mental_Health_History      0\n",
              "Weight_Change              0\n",
              "Mood_Swings                0\n",
              "Coping_Struggles           0\n",
              "Work_Interest              0\n",
              "Social_Weakness            0\n",
              "living_expenses            0\n",
              "other_expenses             0\n",
              "depressed                  0\n",
              "dtype: int64"
            ]
          },
          "metadata": {},
          "execution_count": 7
        }
      ]
    },
    {
      "cell_type": "code",
      "source": [
        "df1.columns"
      ],
      "metadata": {
        "colab": {
          "base_uri": "https://localhost:8080/"
        },
        "id": "HZ5JnmLqKDSk",
        "outputId": "a719e54d-8431-4ec3-ff31-76566ee92513"
      },
      "execution_count": 8,
      "outputs": [
        {
          "output_type": "execute_result",
          "data": {
            "text/plain": [
              "Index(['Age', 'Gender', 'Occupation', 'Days_Indoors', 'Growing_Stress',\n",
              "       'Quarantine_Frustrations', 'Changes_Habits', 'Mental_Health_History',\n",
              "       'Weight_Change', 'Mood_Swings', 'Coping_Struggles', 'Work_Interest',\n",
              "       'Social_Weakness', 'living_expenses', 'other_expenses', 'depressed'],\n",
              "      dtype='object')"
            ]
          },
          "metadata": {},
          "execution_count": 8
        }
      ]
    },
    {
      "cell_type": "code",
      "source": [
        "df = pd.get_dummies(df1, columns=['Age', 'Gender', 'Occupation', 'Days_Indoors', 'Growing_Stress',\n",
        "       'Quarantine_Frustrations', 'Changes_Habits', 'Mental_Health_History',\n",
        "       'Weight_Change', 'Mood_Swings', 'Coping_Struggles', 'Work_Interest',\n",
        "       'Social_Weakness'])\n",
        "print(df.head().to_string())"
      ],
      "metadata": {
        "colab": {
          "base_uri": "https://localhost:8080/"
        },
        "id": "BbU8k5n78xAW",
        "outputId": "e19cd5b0-ac0c-476b-c044-986913998cb3"
      },
      "execution_count": 9,
      "outputs": [
        {
          "output_type": "stream",
          "name": "stdout",
          "text": [
            "   living_expenses  other_expenses  depressed  Age_16-20  Age_20-25  Age_25-30  Age_30-Above  Gender_Female  Gender_Male  Occupation_Business  Occupation_Corporate  Occupation_Housewife  Occupation_Others  Occupation_Student  Days_Indoors_1-14 days  Days_Indoors_15-30 days  Days_Indoors_31-60 days  Days_Indoors_Go out Every day  Days_Indoors_More than 2 months  Growing_Stress_Maybe  Growing_Stress_No  Growing_Stress_Yes  Quarantine_Frustrations_Maybe  Quarantine_Frustrations_No  Quarantine_Frustrations_Yes  Changes_Habits_Maybe  Changes_Habits_No  Changes_Habits_Yes  Mental_Health_History_Maybe  Mental_Health_History_No  Mental_Health_History_Yes  Weight_Change_Maybe  Weight_Change_No  Weight_Change_Yes  Mood_Swings_High  Mood_Swings_Low  Mood_Swings_Medium  Coping_Struggles_No  Coping_Struggles_Yes  Work_Interest_Maybe  Work_Interest_No  Work_Interest_Yes  Social_Weakness_Maybe  Social_Weakness_No  Social_Weakness_Yes\n",
            "0         26692283        28203066          0      False       True      False         False           True        False                False                  True                 False              False               False                    True                    False                    False                          False                            False                 False              False                True                          False                       False                         True                 False               True               False                        False                     False                       True                False             False               True             False            False                True                 True                 False                False              True              False                  False               False                 True\n",
            "1         26692283        28203066          1      False      False      False          True          False         True                False                 False                 False               True               False                   False                    False                     True                          False                            False                 False              False                True                          False                       False                         True                  True              False               False                        False                      True                      False                False              True              False              True            False               False                 True                 False                False              True              False                  False               False                 True\n",
            "2         26692283        28203066          0      False      False      False          True           True        False                False                 False                 False              False                True                   False                    False                    False                           True                            False                 False               True               False                          False                        True                        False                 False              False                True                        False                      True                      False                False              True              False             False            False                True                False                  True                 True             False              False                  False                True                False\n",
            "3           397715        44042267          0      False      False       True         False          False         True                False                 False                 False               True               False                    True                    False                    False                          False                            False                 False              False                True                          False                        True                        False                  True              False               False                        False                      True                      False                 True             False              False             False            False                True                 True                 False                 True             False              False                  False               False                 True\n",
            "4         80877619        74503502          0       True      False      False         False           True        False                False                 False                 False              False                True                   False                    False                    False                          False                             True                 False              False                True                          False                       False                         True                 False              False                True                        False                      True                      False                False             False               True             False            False                True                False                  True                 True             False              False                  False                True                False\n"
          ]
        }
      ]
    },
    {
      "cell_type": "code",
      "source": [
        "from sklearn.model_selection import train_test_split\n",
        "label_columns=['depressed']\n",
        "training_columns=['living_expenses', 'other_expenses', 'depressed', 'Age_16-20',\n",
        "       'Age_20-25', 'Age_25-30', 'Age_30-Above', 'Gender_Female',\n",
        "       'Gender_Male', 'Occupation_Business', 'Occupation_Corporate',\n",
        "       'Occupation_Housewife', 'Occupation_Others', 'Occupation_Student',\n",
        "       'Days_Indoors_1-14 days', 'Days_Indoors_15-30 days',\n",
        "       'Days_Indoors_31-60 days', 'Days_Indoors_Go out Every day',\n",
        "       'Days_Indoors_More than 2 months', 'Growing_Stress_Maybe',\n",
        "       'Growing_Stress_No', 'Growing_Stress_Yes',\n",
        "       'Quarantine_Frustrations_Maybe', 'Quarantine_Frustrations_No',\n",
        "       'Quarantine_Frustrations_Yes', 'Changes_Habits_Maybe',\n",
        "       'Changes_Habits_No', 'Changes_Habits_Yes',\n",
        "       'Mental_Health_History_Maybe', 'Mental_Health_History_No',\n",
        "       'Mental_Health_History_Yes', 'Weight_Change_Maybe', 'Weight_Change_No',\n",
        "       'Weight_Change_Yes', 'Mood_Swings_High', 'Mood_Swings_Low',\n",
        "       'Mood_Swings_Medium', 'Coping_Struggles_No', 'Coping_Struggles_Yes',\n",
        "       'Work_Interest_Maybe', 'Work_Interest_No', 'Work_Interest_Yes',\n",
        "       'Social_Weakness_Maybe', 'Social_Weakness_No', 'Social_Weakness_Yes']\n",
        "x_train,x_test,y_train,y_test=train_test_split(df[training_columns],df[label_columns],train_size=0.7)\n",
        "print(x_train.shape)\n",
        "print(x_test.shape)\n",
        "print(y_train.shape)\n",
        "print(y_test.shape)"
      ],
      "metadata": {
        "colab": {
          "base_uri": "https://localhost:8080/"
        },
        "id": "qqhy8hDwZIJK",
        "outputId": "8c4a7cd4-3ed2-4a3c-f094-5ad8c7788faa"
      },
      "execution_count": 10,
      "outputs": [
        {
          "output_type": "stream",
          "name": "stdout",
          "text": [
            "(576, 45)\n",
            "(248, 45)\n",
            "(576, 1)\n",
            "(248, 1)\n"
          ]
        }
      ]
    },
    {
      "cell_type": "code",
      "source": [
        "!pip install scikit-learn==1.2.2"
      ],
      "metadata": {
        "colab": {
          "base_uri": "https://localhost:8080/"
        },
        "id": "Y_gEmdIxR37R",
        "outputId": "3476bd1c-41a5-47d3-b140-e676eb0ad6bb"
      },
      "execution_count": 11,
      "outputs": [
        {
          "output_type": "stream",
          "name": "stdout",
          "text": [
            "Requirement already satisfied: scikit-learn==1.2.2 in /usr/local/lib/python3.10/dist-packages (1.2.2)\n",
            "Requirement already satisfied: numpy>=1.17.3 in /usr/local/lib/python3.10/dist-packages (from scikit-learn==1.2.2) (1.25.2)\n",
            "Requirement already satisfied: scipy>=1.3.2 in /usr/local/lib/python3.10/dist-packages (from scikit-learn==1.2.2) (1.11.4)\n",
            "Requirement already satisfied: joblib>=1.1.1 in /usr/local/lib/python3.10/dist-packages (from scikit-learn==1.2.2) (1.4.0)\n",
            "Requirement already satisfied: threadpoolctl>=2.0.0 in /usr/local/lib/python3.10/dist-packages (from scikit-learn==1.2.2) (3.4.0)\n"
          ]
        }
      ]
    },
    {
      "cell_type": "code",
      "source": [
        "from sklearn.ensemble import RandomForestClassifier\n",
        "from sklearn.metrics import accuracy_score,precision_score,f1_score,recall_score\n",
        "\n",
        "# Recreate the forest with the same parameters.\n",
        "forest = RandomForestClassifier(n_estimators = 100,\n",
        "                                criterion = 'gini',\n",
        "                                max_depth = 6,\n",
        "                                min_samples_leaf = 10,\n",
        "                                min_samples_split = 78,\n",
        "                                bootstrap = True,\n",
        "                                random_state = 1912)\n",
        "\n",
        "# Fit the forest to the training data.\n",
        "forest.fit(x_train, y_train)\n",
        "\n",
        "# Predict the classes for the test data.\n",
        "prediction = forest.predict(x_test)\n",
        "\n",
        "\n",
        "accuracyscore = accuracy_score(y_test, prediction)\n",
        "precisionscore=precision_score(y_test,prediction)\n",
        "f1score=f1_score(y_test,prediction)\n",
        "recallscore=recall_score(y_test,prediction)\n",
        "\n",
        "\n",
        "\n",
        "print('Accuracy: {:.0f}%'.format(accuracyscore * 100))\n",
        "print('Precision:',precisionscore)\n",
        "print('f1 score: {:.2f}'.format(f1score))\n",
        "print('Recall: {:.2f}'.format(recallscore))"
      ],
      "metadata": {
        "colab": {
          "base_uri": "https://localhost:8080/"
        },
        "id": "HKXeYN_yZe9u",
        "outputId": "d477d913-d29c-4af2-98b5-b5dbd9778352"
      },
      "execution_count": 14,
      "outputs": [
        {
          "output_type": "stream",
          "name": "stderr",
          "text": [
            "<ipython-input-14-e42ad1613b5f>:14: DataConversionWarning: A column-vector y was passed when a 1d array was expected. Please change the shape of y to (n_samples,), for example using ravel().\n",
            "  forest.fit(x_train, y_train)\n"
          ]
        },
        {
          "output_type": "stream",
          "name": "stdout",
          "text": [
            "Accuracy: 88%\n",
            "Precision: 1.0\n",
            "f1 score: 0.46\n",
            "Recall: 0.30\n"
          ]
        }
      ]
    },
    {
      "cell_type": "code",
      "source": [
        "predicted_values=y_test.copy()\n",
        "predicted_values['predicted']=prediction\n",
        "print(predicted_values.to_string())"
      ],
      "metadata": {
        "id": "qKNVj7VIU2YZ",
        "colab": {
          "base_uri": "https://localhost:8080/"
        },
        "outputId": "8fe518b3-7ddc-47d4-b44b-1e122a1769ed"
      },
      "execution_count": 15,
      "outputs": [
        {
          "output_type": "stream",
          "name": "stdout",
          "text": [
            "     depressed  predicted\n",
            "12           0          0\n",
            "340          0          0\n",
            "147          0          0\n",
            "756          0          0\n",
            "212          0          0\n",
            "583          1          0\n",
            "176          0          0\n",
            "137          0          0\n",
            "481          0          0\n",
            "66           0          0\n",
            "731          0          0\n",
            "367          0          0\n",
            "181          0          0\n",
            "37           0          0\n",
            "675          0          0\n",
            "166          0          0\n",
            "311          1          0\n",
            "730          0          0\n",
            "119          0          0\n",
            "345          0          0\n",
            "485          0          0\n",
            "667          0          0\n",
            "578          0          0\n",
            "572          0          0\n",
            "489          0          0\n",
            "783          1          0\n",
            "782          0          0\n",
            "810          1          0\n",
            "383          0          0\n",
            "11           0          0\n",
            "273          0          0\n",
            "616          0          0\n",
            "728          0          0\n",
            "600          0          0\n",
            "546          0          0\n",
            "42           1          0\n",
            "217          0          0\n",
            "533          0          0\n",
            "574          0          0\n",
            "491          0          0\n",
            "695          0          0\n",
            "747          0          0\n",
            "568          0          0\n",
            "645          0          0\n",
            "206          0          0\n",
            "325          0          0\n",
            "745          0          0\n",
            "498          0          0\n",
            "344          0          0\n",
            "527          0          0\n",
            "633          1          0\n",
            "196          0          0\n",
            "388          0          0\n",
            "236          0          0\n",
            "718          0          0\n",
            "644          0          0\n",
            "479          0          0\n",
            "256          0          0\n",
            "31           0          0\n",
            "318          0          0\n",
            "57           0          0\n",
            "177          0          0\n",
            "231          0          0\n",
            "347          0          0\n",
            "334          0          0\n",
            "373          0          0\n",
            "52           0          0\n",
            "571          0          0\n",
            "818          0          0\n",
            "389          1          0\n",
            "452          0          0\n",
            "237          1          0\n",
            "56           0          0\n",
            "378          0          0\n",
            "33           0          0\n",
            "660          0          0\n",
            "661          0          0\n",
            "354          0          0\n",
            "696          0          0\n",
            "438          1          1\n",
            "727          1          0\n",
            "506          1          0\n",
            "281          0          0\n",
            "88           0          0\n",
            "767          0          0\n",
            "41           0          0\n",
            "179          0          0\n",
            "386          0          0\n",
            "75           0          0\n",
            "338          0          0\n",
            "305          0          0\n",
            "68           1          0\n",
            "130          1          0\n",
            "778          0          0\n",
            "266          1          1\n",
            "339          0          0\n",
            "169          1          0\n",
            "20           1          1\n",
            "376          0          0\n",
            "632          0          0\n",
            "676          0          0\n",
            "401          0          0\n",
            "277          0          0\n",
            "760          0          0\n",
            "409          0          0\n",
            "81           1          0\n",
            "396          0          0\n",
            "420          0          0\n",
            "82           0          0\n",
            "109          0          0\n",
            "516          1          1\n",
            "448          0          0\n",
            "547          0          0\n",
            "584          0          0\n",
            "646          0          0\n",
            "561          0          0\n",
            "71           0          0\n",
            "464          1          1\n",
            "101          0          0\n",
            "359          0          0\n",
            "693          0          0\n",
            "346          0          0\n",
            "484          0          0\n",
            "433          0          0\n",
            "18           0          0\n",
            "736          0          0\n",
            "419          0          0\n",
            "557          0          0\n",
            "299          0          0\n",
            "612          0          0\n",
            "592          0          0\n",
            "194          0          0\n",
            "539          0          0\n",
            "587          0          0\n",
            "13           0          0\n",
            "358          0          0\n",
            "654          0          0\n",
            "265          0          0\n",
            "117          1          0\n",
            "278          0          0\n",
            "377          0          0\n",
            "688          1          1\n",
            "807          0          0\n",
            "514          0          0\n",
            "126          0          0\n",
            "606          1          1\n",
            "370          0          0\n",
            "171          0          0\n",
            "814          0          0\n",
            "391          0          0\n",
            "252          0          0\n",
            "819          0          0\n",
            "86           1          0\n",
            "115          0          0\n",
            "691          1          0\n",
            "134          0          0\n",
            "284          0          0\n",
            "772          1          0\n",
            "380          0          0\n",
            "77           1          0\n",
            "754          0          0\n",
            "337          0          0\n",
            "247          0          0\n",
            "725          0          0\n",
            "604          1          0\n",
            "28           0          0\n",
            "662          0          0\n",
            "287          1          1\n",
            "375          0          0\n",
            "366          0          0\n",
            "544          1          1\n",
            "193          0          0\n",
            "61           0          0\n",
            "416          0          0\n",
            "102          1          0\n",
            "562          0          0\n",
            "615          0          0\n",
            "817          1          0\n",
            "361          0          0\n",
            "183          0          0\n",
            "214          1          0\n",
            "457          0          0\n",
            "811          0          0\n",
            "532          0          0\n",
            "24           1          0\n",
            "494          0          0\n",
            "651          1          1\n",
            "331          1          0\n",
            "390          1          0\n",
            "208          0          0\n",
            "779          0          0\n",
            "234          0          0\n",
            "141          0          0\n",
            "493          1          1\n",
            "564          0          0\n",
            "711          1          0\n",
            "463          0          0\n",
            "189          0          0\n",
            "512          0          0\n",
            "577          0          0\n",
            "257          0          0\n",
            "710          0          0\n",
            "321          0          0\n",
            "740          1          0\n",
            "184          0          0\n",
            "174          0          0\n",
            "314          0          0\n",
            "127          0          0\n",
            "477          0          0\n",
            "123          0          0\n",
            "341          0          0\n",
            "228          0          0\n",
            "320          0          0\n",
            "626          0          0\n",
            "759          0          0\n",
            "425          0          0\n",
            "698          0          0\n",
            "670          1          1\n",
            "286          0          0\n",
            "72           1          0\n",
            "658          0          0\n",
            "400          0          0\n",
            "294          0          0\n",
            "598          0          0\n",
            "569          0          0\n",
            "3            0          0\n",
            "291          0          0\n",
            "526          0          0\n",
            "195          0          0\n",
            "190          0          0\n",
            "132          0          0\n",
            "38           0          0\n",
            "788          0          0\n",
            "483          0          0\n",
            "809          0          0\n",
            "293          0          0\n",
            "309          0          0\n",
            "15           0          0\n",
            "575          0          0\n",
            "787          0          0\n",
            "659          1          1\n",
            "769          0          0\n",
            "93           0          0\n",
            "685          0          0\n",
            "744          0          0\n",
            "822          0          0\n",
            "476          0          0\n",
            "538          1          0\n"
          ]
        }
      ]
    }
  ]
}